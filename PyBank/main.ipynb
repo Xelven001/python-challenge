{
 "cells": [
  {
   "cell_type": "code",
   "execution_count": 1,
   "metadata": {},
   "outputs": [],
   "source": [
    "import pandas as pd \n",
    "from pathlib import Path"
   ]
  },
  {
   "cell_type": "code",
   "execution_count": 13,
   "metadata": {},
   "outputs": [
    {
     "data": {
      "text/plain": [
       "True"
      ]
     },
     "execution_count": 13,
     "metadata": {},
     "output_type": "execute_result"
    }
   ],
   "source": [
    "file = Path('Resources/budget_data.csv')\n",
    "\n",
    "df = pd.read_csv(file)\n",
    "\n",
    "# Verified no dupe month rows\n",
    "# df['Date'].nunique() == df['Date'].count()\n",
    "\n"
   ]
  },
  {
   "cell_type": "code",
   "execution_count": 14,
   "metadata": {},
   "outputs": [],
   "source": [
    "total_months = df['Date'].nunique()\n",
    "total = df[\"Profit/Losses\"].sum()\n",
    "mean = df[\"Profit/Losses\"].mean()\n",
    "\n",
    "difference = df[\"Profit/Losses\"].diff()\n",
    "average_change = difference.mean().round(2)\n",
    "\n"
   ]
  },
  {
   "cell_type": "code",
   "execution_count": 15,
   "metadata": {},
   "outputs": [],
   "source": [
    "\n",
    "df[\"Difference\"]= df[\"Profit/Losses\"].diff().fillna('0').astype('int64')\n",
    "\n",
    "\n",
    "increase_row = df[df['Difference'] == df['Difference'].max()]\n",
    "increase_date = increase_row['Date'].to_string(index=False)\n",
    "increase_amt =  increase_row['Difference'].to_string(index=False)\n",
    "\n",
    "decrease_row = df[df['Difference'] == df['Difference'].min()]\n",
    "decrease_date = decrease_row['Date'].to_string(index=False)\n",
    "decrease_amt =  decrease_row['Difference'].to_string(index=False)\n",
    "\n",
    "\n",
    "\n"
   ]
  },
  {
   "cell_type": "code",
   "execution_count": 19,
   "metadata": {},
   "outputs": [
    {
     "name": "stdout",
     "output_type": "stream",
     "text": [
      "Financial Analysis\n",
      "\n",
      "---------------------------\n",
      "Total Months: 86\n",
      "Total: $22564198\n",
      "Average Change: $-8311.11\n",
      "Greatest Increase in Profits: Aug-16($1862002)\n",
      "Greatest Decrease in Profits: Feb-14($-1825558)\n"
     ]
    }
   ],
   "source": [
    "\n",
    "print(\"Financial Analysis\")\n",
    "print(\"\\n---------------------------\")\n",
    "print(f'Total Months: {total_months}')\n",
    "print(f'Total: ${total}')\n",
    "print(f'Average Change: ${average_change}')\n",
    "print(f'Greatest Increase in Profits: {increase_date}(${increase_amt})')\n",
    "print(f'Greatest Decrease in Profits: {decrease_date}(${decrease_amt})')\n",
    "\n"
   ]
  },
  {
   "cell_type": "code",
   "execution_count": null,
   "metadata": {},
   "outputs": [],
   "source": []
  }
 ],
 "metadata": {
  "kernelspec": {
   "display_name": "Python 3",
   "language": "python",
   "name": "python3"
  },
  "language_info": {
   "codemirror_mode": {
    "name": "ipython",
    "version": 3
   },
   "file_extension": ".py",
   "mimetype": "text/x-python",
   "name": "python",
   "nbconvert_exporter": "python",
   "pygments_lexer": "ipython3",
   "version": "3.11.5"
  }
 },
 "nbformat": 4,
 "nbformat_minor": 2
}
